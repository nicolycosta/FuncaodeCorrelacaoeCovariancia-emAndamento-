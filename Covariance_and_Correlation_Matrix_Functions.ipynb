{
  "nbformat": 4,
  "nbformat_minor": 0,
  "metadata": {
    "colab": {
      "name": "Covariance and Correlation Matrix Functions.ipynb",
      "provenance": [],
      "collapsed_sections": [],
      "toc_visible": true,
      "authorship_tag": "ABX9TyMAOhs6Hc75U7r2Qe/ldO0a",
      "include_colab_link": true
    },
    "kernelspec": {
      "name": "python3",
      "display_name": "Python 3"
    },
    "language_info": {
      "name": "python"
    }
  },
  "cells": [
    {
      "cell_type": "markdown",
      "metadata": {
        "id": "view-in-github",
        "colab_type": "text"
      },
      "source": [
        "<a href=\"https://colab.research.google.com/github/nicolycosta/FuncaodeCorrelacaoeCovariancia-emAndamento-/blob/main/Covariance_and_Correlation_Matrix_Functions.ipynb\" target=\"_parent\"><img src=\"https://colab.research.google.com/assets/colab-badge.svg\" alt=\"Open In Colab\"/></a>"
      ]
    },
    {
      "cell_type": "code",
      "execution_count": null,
      "metadata": {
        "id": "OiJpo2APS2yZ"
      },
      "outputs": [],
      "source": [
        "import pandas as pd\n",
        "import numpy\n",
        "import matplotlib.pyplot as plt"
      ]
    },
    {
      "cell_type": "code",
      "source": [
        "df = pd.read_excel(\"Base.xlsx\")\n",
        "df = df.set_index('Mês')\n",
        "df.head(5)"
      ],
      "metadata": {
        "colab": {
          "base_uri": "https://localhost:8080/",
          "height": 237
        },
        "id": "97o2CVFrS3ZC",
        "outputId": "1120d5ae-f853-4d42-fe28-1186bd902219"
      },
      "execution_count": null,
      "outputs": [
        {
          "output_type": "execute_result",
          "data": {
            "text/html": [
              "\n",
              "  <div id=\"df-ee3ec330-9f24-4dd4-9599-ea40c541af23\">\n",
              "    <div class=\"colab-df-container\">\n",
              "      <div>\n",
              "<style scoped>\n",
              "    .dataframe tbody tr th:only-of-type {\n",
              "        vertical-align: middle;\n",
              "    }\n",
              "\n",
              "    .dataframe tbody tr th {\n",
              "        vertical-align: top;\n",
              "    }\n",
              "\n",
              "    .dataframe thead th {\n",
              "        text-align: right;\n",
              "    }\n",
              "</style>\n",
              "<table border=\"1\" class=\"dataframe\">\n",
              "  <thead>\n",
              "    <tr style=\"text-align: right;\">\n",
              "      <th></th>\n",
              "      <th>ICMS- Pará</th>\n",
              "      <th>IPCA - Núm índice</th>\n",
              "    </tr>\n",
              "    <tr>\n",
              "      <th>Mês</th>\n",
              "      <th></th>\n",
              "      <th></th>\n",
              "    </tr>\n",
              "  </thead>\n",
              "  <tbody>\n",
              "    <tr>\n",
              "      <th>2004-01-01</th>\n",
              "      <td>2.080399e+08</td>\n",
              "      <td>2246.43</td>\n",
              "    </tr>\n",
              "    <tr>\n",
              "      <th>2004-02-01</th>\n",
              "      <td>1.887688e+08</td>\n",
              "      <td>2260.13</td>\n",
              "    </tr>\n",
              "    <tr>\n",
              "      <th>2004-03-01</th>\n",
              "      <td>1.593895e+08</td>\n",
              "      <td>2270.75</td>\n",
              "    </tr>\n",
              "    <tr>\n",
              "      <th>2004-04-01</th>\n",
              "      <td>1.749718e+08</td>\n",
              "      <td>2279.15</td>\n",
              "    </tr>\n",
              "    <tr>\n",
              "      <th>2004-05-01</th>\n",
              "      <td>1.973934e+08</td>\n",
              "      <td>2290.77</td>\n",
              "    </tr>\n",
              "  </tbody>\n",
              "</table>\n",
              "</div>\n",
              "      <button class=\"colab-df-convert\" onclick=\"convertToInteractive('df-ee3ec330-9f24-4dd4-9599-ea40c541af23')\"\n",
              "              title=\"Convert this dataframe to an interactive table.\"\n",
              "              style=\"display:none;\">\n",
              "        \n",
              "  <svg xmlns=\"http://www.w3.org/2000/svg\" height=\"24px\"viewBox=\"0 0 24 24\"\n",
              "       width=\"24px\">\n",
              "    <path d=\"M0 0h24v24H0V0z\" fill=\"none\"/>\n",
              "    <path d=\"M18.56 5.44l.94 2.06.94-2.06 2.06-.94-2.06-.94-.94-2.06-.94 2.06-2.06.94zm-11 1L8.5 8.5l.94-2.06 2.06-.94-2.06-.94L8.5 2.5l-.94 2.06-2.06.94zm10 10l.94 2.06.94-2.06 2.06-.94-2.06-.94-.94-2.06-.94 2.06-2.06.94z\"/><path d=\"M17.41 7.96l-1.37-1.37c-.4-.4-.92-.59-1.43-.59-.52 0-1.04.2-1.43.59L10.3 9.45l-7.72 7.72c-.78.78-.78 2.05 0 2.83L4 21.41c.39.39.9.59 1.41.59.51 0 1.02-.2 1.41-.59l7.78-7.78 2.81-2.81c.8-.78.8-2.07 0-2.86zM5.41 20L4 18.59l7.72-7.72 1.47 1.35L5.41 20z\"/>\n",
              "  </svg>\n",
              "      </button>\n",
              "      \n",
              "  <style>\n",
              "    .colab-df-container {\n",
              "      display:flex;\n",
              "      flex-wrap:wrap;\n",
              "      gap: 12px;\n",
              "    }\n",
              "\n",
              "    .colab-df-convert {\n",
              "      background-color: #E8F0FE;\n",
              "      border: none;\n",
              "      border-radius: 50%;\n",
              "      cursor: pointer;\n",
              "      display: none;\n",
              "      fill: #1967D2;\n",
              "      height: 32px;\n",
              "      padding: 0 0 0 0;\n",
              "      width: 32px;\n",
              "    }\n",
              "\n",
              "    .colab-df-convert:hover {\n",
              "      background-color: #E2EBFA;\n",
              "      box-shadow: 0px 1px 2px rgba(60, 64, 67, 0.3), 0px 1px 3px 1px rgba(60, 64, 67, 0.15);\n",
              "      fill: #174EA6;\n",
              "    }\n",
              "\n",
              "    [theme=dark] .colab-df-convert {\n",
              "      background-color: #3B4455;\n",
              "      fill: #D2E3FC;\n",
              "    }\n",
              "\n",
              "    [theme=dark] .colab-df-convert:hover {\n",
              "      background-color: #434B5C;\n",
              "      box-shadow: 0px 1px 3px 1px rgba(0, 0, 0, 0.15);\n",
              "      filter: drop-shadow(0px 1px 2px rgba(0, 0, 0, 0.3));\n",
              "      fill: #FFFFFF;\n",
              "    }\n",
              "  </style>\n",
              "\n",
              "      <script>\n",
              "        const buttonEl =\n",
              "          document.querySelector('#df-ee3ec330-9f24-4dd4-9599-ea40c541af23 button.colab-df-convert');\n",
              "        buttonEl.style.display =\n",
              "          google.colab.kernel.accessAllowed ? 'block' : 'none';\n",
              "\n",
              "        async function convertToInteractive(key) {\n",
              "          const element = document.querySelector('#df-ee3ec330-9f24-4dd4-9599-ea40c541af23');\n",
              "          const dataTable =\n",
              "            await google.colab.kernel.invokeFunction('convertToInteractive',\n",
              "                                                     [key], {});\n",
              "          if (!dataTable) return;\n",
              "\n",
              "          const docLinkHtml = 'Like what you see? Visit the ' +\n",
              "            '<a target=\"_blank\" href=https://colab.research.google.com/notebooks/data_table.ipynb>data table notebook</a>'\n",
              "            + ' to learn more about interactive tables.';\n",
              "          element.innerHTML = '';\n",
              "          dataTable['output_type'] = 'display_data';\n",
              "          await google.colab.output.renderOutput(dataTable, element);\n",
              "          const docLink = document.createElement('div');\n",
              "          docLink.innerHTML = docLinkHtml;\n",
              "          element.appendChild(docLink);\n",
              "        }\n",
              "      </script>\n",
              "    </div>\n",
              "  </div>\n",
              "  "
            ],
            "text/plain": [
              "              ICMS- Pará  IPCA - Núm índice \n",
              "Mês                                         \n",
              "2004-01-01  2.080399e+08             2246.43\n",
              "2004-02-01  1.887688e+08             2260.13\n",
              "2004-03-01  1.593895e+08             2270.75\n",
              "2004-04-01  1.749718e+08             2279.15\n",
              "2004-05-01  1.973934e+08             2290.77"
            ]
          },
          "metadata": {},
          "execution_count": 6
        }
      ]
    },
    {
      "cell_type": "code",
      "source": [
        "#Tornando a série em estacionária\n",
        "df = df.diff().dropna()\n",
        "df.head(5)"
      ],
      "metadata": {
        "colab": {
          "base_uri": "https://localhost:8080/",
          "height": 237
        },
        "id": "eb_VZkh2S3b4",
        "outputId": "5540feb7-d5c1-444b-ee49-3ab046502450"
      },
      "execution_count": null,
      "outputs": [
        {
          "output_type": "execute_result",
          "data": {
            "text/html": [
              "\n",
              "  <div id=\"df-13359670-2b0b-421c-942a-c6bc6a03dd0c\">\n",
              "    <div class=\"colab-df-container\">\n",
              "      <div>\n",
              "<style scoped>\n",
              "    .dataframe tbody tr th:only-of-type {\n",
              "        vertical-align: middle;\n",
              "    }\n",
              "\n",
              "    .dataframe tbody tr th {\n",
              "        vertical-align: top;\n",
              "    }\n",
              "\n",
              "    .dataframe thead th {\n",
              "        text-align: right;\n",
              "    }\n",
              "</style>\n",
              "<table border=\"1\" class=\"dataframe\">\n",
              "  <thead>\n",
              "    <tr style=\"text-align: right;\">\n",
              "      <th></th>\n",
              "      <th>ICMS- Pará</th>\n",
              "      <th>IPCA - Núm índice</th>\n",
              "    </tr>\n",
              "    <tr>\n",
              "      <th>Mês</th>\n",
              "      <th></th>\n",
              "      <th></th>\n",
              "    </tr>\n",
              "  </thead>\n",
              "  <tbody>\n",
              "    <tr>\n",
              "      <th>2004-02-01</th>\n",
              "      <td>-19271095.42</td>\n",
              "      <td>13.70</td>\n",
              "    </tr>\n",
              "    <tr>\n",
              "      <th>2004-03-01</th>\n",
              "      <td>-29379308.75</td>\n",
              "      <td>10.62</td>\n",
              "    </tr>\n",
              "    <tr>\n",
              "      <th>2004-04-01</th>\n",
              "      <td>15582287.73</td>\n",
              "      <td>8.40</td>\n",
              "    </tr>\n",
              "    <tr>\n",
              "      <th>2004-05-01</th>\n",
              "      <td>22421587.15</td>\n",
              "      <td>11.62</td>\n",
              "    </tr>\n",
              "    <tr>\n",
              "      <th>2004-06-01</th>\n",
              "      <td>-5414707.06</td>\n",
              "      <td>16.26</td>\n",
              "    </tr>\n",
              "  </tbody>\n",
              "</table>\n",
              "</div>\n",
              "      <button class=\"colab-df-convert\" onclick=\"convertToInteractive('df-13359670-2b0b-421c-942a-c6bc6a03dd0c')\"\n",
              "              title=\"Convert this dataframe to an interactive table.\"\n",
              "              style=\"display:none;\">\n",
              "        \n",
              "  <svg xmlns=\"http://www.w3.org/2000/svg\" height=\"24px\"viewBox=\"0 0 24 24\"\n",
              "       width=\"24px\">\n",
              "    <path d=\"M0 0h24v24H0V0z\" fill=\"none\"/>\n",
              "    <path d=\"M18.56 5.44l.94 2.06.94-2.06 2.06-.94-2.06-.94-.94-2.06-.94 2.06-2.06.94zm-11 1L8.5 8.5l.94-2.06 2.06-.94-2.06-.94L8.5 2.5l-.94 2.06-2.06.94zm10 10l.94 2.06.94-2.06 2.06-.94-2.06-.94-.94-2.06-.94 2.06-2.06.94z\"/><path d=\"M17.41 7.96l-1.37-1.37c-.4-.4-.92-.59-1.43-.59-.52 0-1.04.2-1.43.59L10.3 9.45l-7.72 7.72c-.78.78-.78 2.05 0 2.83L4 21.41c.39.39.9.59 1.41.59.51 0 1.02-.2 1.41-.59l7.78-7.78 2.81-2.81c.8-.78.8-2.07 0-2.86zM5.41 20L4 18.59l7.72-7.72 1.47 1.35L5.41 20z\"/>\n",
              "  </svg>\n",
              "      </button>\n",
              "      \n",
              "  <style>\n",
              "    .colab-df-container {\n",
              "      display:flex;\n",
              "      flex-wrap:wrap;\n",
              "      gap: 12px;\n",
              "    }\n",
              "\n",
              "    .colab-df-convert {\n",
              "      background-color: #E8F0FE;\n",
              "      border: none;\n",
              "      border-radius: 50%;\n",
              "      cursor: pointer;\n",
              "      display: none;\n",
              "      fill: #1967D2;\n",
              "      height: 32px;\n",
              "      padding: 0 0 0 0;\n",
              "      width: 32px;\n",
              "    }\n",
              "\n",
              "    .colab-df-convert:hover {\n",
              "      background-color: #E2EBFA;\n",
              "      box-shadow: 0px 1px 2px rgba(60, 64, 67, 0.3), 0px 1px 3px 1px rgba(60, 64, 67, 0.15);\n",
              "      fill: #174EA6;\n",
              "    }\n",
              "\n",
              "    [theme=dark] .colab-df-convert {\n",
              "      background-color: #3B4455;\n",
              "      fill: #D2E3FC;\n",
              "    }\n",
              "\n",
              "    [theme=dark] .colab-df-convert:hover {\n",
              "      background-color: #434B5C;\n",
              "      box-shadow: 0px 1px 3px 1px rgba(0, 0, 0, 0.15);\n",
              "      filter: drop-shadow(0px 1px 2px rgba(0, 0, 0, 0.3));\n",
              "      fill: #FFFFFF;\n",
              "    }\n",
              "  </style>\n",
              "\n",
              "      <script>\n",
              "        const buttonEl =\n",
              "          document.querySelector('#df-13359670-2b0b-421c-942a-c6bc6a03dd0c button.colab-df-convert');\n",
              "        buttonEl.style.display =\n",
              "          google.colab.kernel.accessAllowed ? 'block' : 'none';\n",
              "\n",
              "        async function convertToInteractive(key) {\n",
              "          const element = document.querySelector('#df-13359670-2b0b-421c-942a-c6bc6a03dd0c');\n",
              "          const dataTable =\n",
              "            await google.colab.kernel.invokeFunction('convertToInteractive',\n",
              "                                                     [key], {});\n",
              "          if (!dataTable) return;\n",
              "\n",
              "          const docLinkHtml = 'Like what you see? Visit the ' +\n",
              "            '<a target=\"_blank\" href=https://colab.research.google.com/notebooks/data_table.ipynb>data table notebook</a>'\n",
              "            + ' to learn more about interactive tables.';\n",
              "          element.innerHTML = '';\n",
              "          dataTable['output_type'] = 'display_data';\n",
              "          await google.colab.output.renderOutput(dataTable, element);\n",
              "          const docLink = document.createElement('div');\n",
              "          docLink.innerHTML = docLinkHtml;\n",
              "          element.appendChild(docLink);\n",
              "        }\n",
              "      </script>\n",
              "    </div>\n",
              "  </div>\n",
              "  "
            ],
            "text/plain": [
              "             ICMS- Pará  IPCA - Núm índice \n",
              "Mês                                        \n",
              "2004-02-01 -19271095.42               13.70\n",
              "2004-03-01 -29379308.75               10.62\n",
              "2004-04-01  15582287.73                8.40\n",
              "2004-05-01  22421587.15               11.62\n",
              "2004-06-01  -5414707.06               16.26"
            ]
          },
          "metadata": {},
          "execution_count": 7
        }
      ]
    },
    {
      "cell_type": "markdown",
      "source": [
        "# Covariância(X,Y) e Autocovariância"
      ],
      "metadata": {
        "id": "69xOY1ynT1mB"
      }
    },
    {
      "cell_type": "code",
      "source": [
        "def Covariancia(x,y):\n",
        "    \n",
        "    from statistics import mean\n",
        "    import pandas as pd\n",
        "    import numpy as np\n",
        "    import warnings    \n",
        "    warnings.filterwarnings('ignore')\n",
        "    \n",
        "    #adjusting a base\n",
        "    data = np.array([x.values, y.values])\n",
        "    Cal= pd.DataFrame(data)\n",
        "    Cal = Cal.T \n",
        "    Cal.columns=['X', 'Y']\n",
        "    Cal['Covx']= 'NaN'\n",
        "    Cal['Covy']= 'NaN'\n",
        "\n",
        "    #mean x and y \n",
        "    meanx= mean(Cal['X'])\n",
        "    meany= mean(Cal['Y'])\n",
        "\n",
        "    position = 0\n",
        "    for value in Cal['Covx']:\n",
        "        Cal['Covx'][position] = (Cal['X'][position] - meanx) # (x-μx)\n",
        "        position = position + 1\n",
        "    position = 0\n",
        "    for value in Cal['Covy']:\n",
        "        Cal['Covy'][position] = Cal['Y'][position] - meany # (y-μy)\n",
        "        position = position + 1\n",
        "\n",
        "    \n",
        "    Cal['Covx*Covy'] = Cal['Covx']*Cal['Covy'] #(x-μx)(y-μy)\n",
        "    covxy = mean(Cal['Covx*Covy']) # E(x-μx)(y-μy)\n",
        "    covx = mean(Cal['Covx']*Cal['Covx']) # E(x-μx)(x-μx)\n",
        "    covy = mean(Cal['Covy']*Cal['Covy']) # E(y-μy)(y-μy)\n",
        "\n",
        "    print()\n",
        "    print('Covariância cruzada: ')\n",
        "    print(f'                  {covxy}')\n",
        "    print()\n",
        "    print('Auto-Covariância do X: ')\n",
        "    print(f'                  {covx}')\n",
        "    print()\n",
        "    print('Auto-Covariância do Y: ')\n",
        "    print(f'                  {covy}')"
      ],
      "metadata": {
        "id": "M7w_5cgjS3eQ"
      },
      "execution_count": null,
      "outputs": []
    },
    {
      "cell_type": "code",
      "source": [
        "Covariancia(df['ICMS- Pará'],df['IPCA - Núm índice '])"
      ],
      "metadata": {
        "colab": {
          "base_uri": "https://localhost:8080/"
        },
        "id": "yvsXo94VS3g5",
        "outputId": "5135f30e-9e0c-424a-9cc6-64395327c756"
      },
      "execution_count": null,
      "outputs": [
        {
          "output_type": "stream",
          "name": "stdout",
          "text": [
            "\n",
            "Covariância cruzada: \n",
            "                  -60215244.21757942\n",
            "\n",
            "Auto-Covariância do X: \n",
            "                  4210569642576162.0\n",
            "\n",
            "Auto-Covariância do Y: \n",
            "                  182.93852883862505\n"
          ]
        }
      ]
    },
    {
      "cell_type": "markdown",
      "source": [
        "#### Matriz de Covariância (função pronta)"
      ],
      "metadata": {
        "id": "MHO0u-arbwPO"
      }
    },
    {
      "cell_type": "code",
      "source": [
        "numpy.cov(df['ICMS- Pará'], df['IPCA - Núm índice '])"
      ],
      "metadata": {
        "colab": {
          "base_uri": "https://localhost:8080/"
        },
        "id": "7y9XMMbXS3oA",
        "outputId": "73393115-7710-406f-9aac-5b3feebb24a1"
      },
      "execution_count": null,
      "outputs": [
        {
          "output_type": "execute_result",
          "data": {
            "text/plain": [
              "array([[ 4.23081277e+15, -6.05047406e+07],\n",
              "       [-6.05047406e+07,  1.83818041e+02]])"
            ]
          },
          "metadata": {},
          "execution_count": 16
        }
      ]
    },
    {
      "cell_type": "markdown",
      "source": [
        "# Correlação e Autocorrelação (X,Y)\n",
        "\n"
      ],
      "metadata": {
        "id": "FqUoO7MNNRL7"
      }
    },
    {
      "cell_type": "markdown",
      "source": [
        "## Autocorrelação"
      ],
      "metadata": {
        "id": "B3SsedjWRrmw"
      }
    },
    {
      "cell_type": "code",
      "source": [
        "def Correlacaocruzada (x,y,lags = 30): #não conisgo resolver a situação do lag 1.\n",
        "\n",
        "    import matplotlib.pyplot as plt\n",
        "    from statistics import mean\n",
        "    import numpy as np\n",
        "    \n",
        "    listcorrelacao = []\n",
        "    listautocorrelacaox = []\n",
        "    listautocorrelacaoy = []\n",
        "    lags = lags + 1 \n",
        "    k = list(range(2,lags))\n",
        "    \n",
        "    for lag in k:\n",
        "        data = np.array([x.values, y.values])\n",
        "        Cal= pd.DataFrame(data)\n",
        "        Cal = Cal.T \n",
        "        Cal.columns=['X', 'Y']\n",
        "\n",
        "        Cal['Corx']= 'NaN'\n",
        "        Cal['Cory']= 'NaN'\n",
        "        Cal['Corylag0']= 'NaN'\n",
        "        Cal['Corxlag']= 'NaN'\n",
        "        meanx= mean(x)\n",
        "        meany= mean(y)\n",
        "\n",
        "        #X\n",
        "        line= 0\n",
        "        for value in Cal['Corx']: #iterrow\n",
        "            Cal['Corx'][line] = (x[line] - meanx) # [X(i,t) - µ(i)]\n",
        "            line = line + 1\n",
        "\n",
        "        #Y\n",
        "        line = 0\n",
        "        lenn = round(len(y)/lag) #for odd number\n",
        "        while line <= lenn:\n",
        "            Cal['Cory'][line] = y[line+lag] - meany # [Y(t + k) - µ(y)]\n",
        "            line = line + 1\n",
        "    \n",
        "        #Covariância cruzada (Yxy)   \n",
        "        Cal['Corx*Cory'] = Cal['Corx'][0:lenn]*Cal['Cory'][0:lenn] #[X(i,t) - µ(i)][Y(i,t+k) - µ(i)]\n",
        "        corxy = mean(Cal['Corx*Cory'].dropna()) # E [[X(i,t) - µ(i)][Y(i,t+k) - µ(i)]]\n",
        "    \n",
        "        #Auto Covariância (Yxx)\n",
        "        corx = mean(Cal['Corx']*Cal['Corx']) # E[X(t) - µ(x)][X(t) - µ(x)]\n",
        "    \n",
        "        #Auto Covariância (Yyy)\n",
        "        line = 0\n",
        "        for j in Cal['Corylag0']:\n",
        "            Cal['Corylag0'][line] = y[line] - meany # [Y(t) - µ(y)]\n",
        "            line = line + 1\n",
        "        cory = mean(Cal['Corylag0']*Cal['Corylag0']) # E [Y(t) - µ(y)][Y(t) - µ(y)]\n",
        "\n",
        "        listcorrelacao.append(corxy/((corx*cory)**(1/2)))\n",
        "\n",
        "        #AutocorralacaodeX\n",
        "          # I already have [X(t) - µ(x)], now i need [X(t+ k) - µ(x)]\n",
        "        line = 0\n",
        "        lenn = round(len(x)/lag) #for odd number\n",
        "        while line <= lenn:\n",
        "           Cal['Corxlag'][line] = x[line+lag] - meanx # [Y(t+ k) - µ(y)]\n",
        "           line = line + 1\n",
        "        Cal['Corx*Corxlag'] = mean(Cal['Corx'][0:lenn]*Cal['Corxlag'][0:lenn]) #[X(t) - µ(x)][X(t+k) - µ(x)]   \n",
        "        Corxlag = mean(Cal['Corx*Corxlag'].dropna())\n",
        "        listautocorrelacaox.append(Corxlag/((corx*corx)**(1/2)))\n",
        "\n",
        "        #AutocorralacaodeY\n",
        "          # I already have [Y(t) - µ(y)] and [Y(t+ k) - µ(y)], so\n",
        "        a= mean(Cal['Corylag0'][0:lenn]*Cal['Cory'][0:lenn]) #[Y(t) - µ(y)]*[Y(t+ k) - µ(y)]\n",
        "        listautocorrelacaoy.append((a/cory)**(1/2)) \n",
        "\n",
        "    # Plotando\n",
        "    plt.figure(figsize = (21, 7))\n",
        "\n",
        "    ax=  plt.subplot(1,2,1)\n",
        "    ax.stem(listautocorrelacaox)\n",
        "    plt.title('Função de Autocorrelação de x', fontsize=16)\n",
        "\n",
        "    ax1 = plt.subplot(1,2,2)\n",
        "    ax1.stem(listcorrelacao)\n",
        "    plt.title('Função de Correlação Cruzada', fontsize=16)\n",
        "\n",
        "    plt.figure(figsize = (21, 7))\n",
        "    ax2 = plt.subplot(1,2,1)\n",
        "    ax2.stem(listcorrelacao)\n",
        "    plt.title('Função de Correlação Cruzada', fontsize=16)\n",
        "\n",
        "    ax3 = plt.subplot(1,2,2)\n",
        "    ax3.stem(listautocorrelacaoy)\n",
        "    plt.title('Função de Autocorrelação de y', fontsize=16)\n",
        "\n",
        "    plt.show()\n",
        "\n"
      ],
      "metadata": {
        "id": "328XEu70S3ql"
      },
      "execution_count": 171,
      "outputs": []
    },
    {
      "cell_type": "code",
      "source": [
        "Correlacaocruzada(df['ICMS- Pará'],df['IPCA - Núm índice '], 30)"
      ],
      "metadata": {
        "id": "u1iDuPUmS3tR",
        "colab": {
          "base_uri": "https://localhost:8080/",
          "height": 1000
        },
        "outputId": "661bce92-9895-4040-fc08-5b7a0d84f55a"
      },
      "execution_count": 172,
      "outputs": [
        {
          "output_type": "stream",
          "name": "stderr",
          "text": [
            "/usr/local/lib/python3.7/dist-packages/ipykernel_launcher.py:29: SettingWithCopyWarning: \n",
            "A value is trying to be set on a copy of a slice from a DataFrame\n",
            "\n",
            "See the caveats in the documentation: https://pandas.pydata.org/pandas-docs/stable/user_guide/indexing.html#returning-a-view-versus-a-copy\n",
            "/usr/local/lib/python3.7/dist-packages/ipykernel_launcher.py:36: SettingWithCopyWarning: \n",
            "A value is trying to be set on a copy of a slice from a DataFrame\n",
            "\n",
            "See the caveats in the documentation: https://pandas.pydata.org/pandas-docs/stable/user_guide/indexing.html#returning-a-view-versus-a-copy\n",
            "/usr/local/lib/python3.7/dist-packages/ipykernel_launcher.py:49: SettingWithCopyWarning: \n",
            "A value is trying to be set on a copy of a slice from a DataFrame\n",
            "\n",
            "See the caveats in the documentation: https://pandas.pydata.org/pandas-docs/stable/user_guide/indexing.html#returning-a-view-versus-a-copy\n",
            "/usr/local/lib/python3.7/dist-packages/ipykernel_launcher.py:60: SettingWithCopyWarning: \n",
            "A value is trying to be set on a copy of a slice from a DataFrame\n",
            "\n",
            "See the caveats in the documentation: https://pandas.pydata.org/pandas-docs/stable/user_guide/indexing.html#returning-a-view-versus-a-copy\n",
            "/usr/local/lib/python3.7/dist-packages/ipykernel_launcher.py:75: UserWarning: In Matplotlib 3.3 individual lines on a stem plot will be added as a LineCollection instead of individual lines. This significantly improves the performance of a stem plot. To remove this warning and switch to the new behaviour, set the \"use_line_collection\" keyword argument to True.\n",
            "/usr/local/lib/python3.7/dist-packages/ipykernel_launcher.py:79: UserWarning: In Matplotlib 3.3 individual lines on a stem plot will be added as a LineCollection instead of individual lines. This significantly improves the performance of a stem plot. To remove this warning and switch to the new behaviour, set the \"use_line_collection\" keyword argument to True.\n",
            "/usr/local/lib/python3.7/dist-packages/ipykernel_launcher.py:84: UserWarning: In Matplotlib 3.3 individual lines on a stem plot will be added as a LineCollection instead of individual lines. This significantly improves the performance of a stem plot. To remove this warning and switch to the new behaviour, set the \"use_line_collection\" keyword argument to True.\n",
            "/usr/local/lib/python3.7/dist-packages/ipykernel_launcher.py:88: UserWarning: In Matplotlib 3.3 individual lines on a stem plot will be added as a LineCollection instead of individual lines. This significantly improves the performance of a stem plot. To remove this warning and switch to the new behaviour, set the \"use_line_collection\" keyword argument to True.\n"
          ]
        },
        {
          "output_type": "display_data",
          "data": {
            "image/png": "[encoded data removed]",
            "text/plain": [
              "<Figure size 1512x504 with 2 Axes>"
            ]
          },
          "metadata": {
            "needs_background": "light"
          }
        },
        {
          "output_type": "display_data",
          "data": {
            "image/png": "[encoded data removed]",
            "text/plain": [
              "<Figure size 1512x504 with 2 Axes>"
            ]
          },
          "metadata": {
            "needs_background": "light"
          }
        }
      ]
    },
    {
      "cell_type": "code",
      "source": [
        ""
      ],
      "metadata": {
        "id": "ZNxigQyMS3vs"
      },
      "execution_count": null,
      "outputs": []
    },
    {
      "cell_type": "code",
      "source": [
        ""
      ],
      "metadata": {
        "id": "msj9CTVFS3yS"
      },
      "execution_count": null,
      "outputs": []
    },
    {
      "cell_type": "code",
      "source": [
        ""
      ],
      "metadata": {
        "id": "jr2pXUq3QXaT"
      },
      "execution_count": null,
      "outputs": []
    },
    {
      "cell_type": "code",
      "source": [
        ""
      ],
      "metadata": {
        "id": "nlIQnPP1QXdC"
      },
      "execution_count": null,
      "outputs": []
    },
    {
      "cell_type": "code",
      "source": [
        ""
      ],
      "metadata": {
        "id": "j-9O9IW5QXf0"
      },
      "execution_count": null,
      "outputs": []
    },
    {
      "cell_type": "code",
      "source": [
        ""
      ],
      "metadata": {
        "id": "SSyT_5bzQXiz"
      },
      "execution_count": null,
      "outputs": []
    },
    {
      "cell_type": "code",
      "source": [
        "fig = plt.figure()\n",
        "ax1 = fig.add_subplot(211)\n",
        "ax1.xcorr(df['ICMS- Pará'], df['IPCA - Núm índice '])"
      ],
      "metadata": {
        "colab": {
          "base_uri": "https://localhost:8080/",
          "height": 313
        },
        "id": "F1vxRf7RQXl6",
        "outputId": "50592cbe-9494-4763-a9ae-29127610fa0e"
      },
      "execution_count": null,
      "outputs": [
        {
          "output_type": "execute_result",
          "data": {
            "text/plain": [
              "(array([-10,  -9,  -8,  -7,  -6,  -5,  -4,  -3,  -2,  -1,   0,   1,   2,\n",
              "          3,   4,   5,   6,   7,   8,   9,  10]),\n",
              " array([-0.01125199,  0.0439077 ,  0.06051231,  0.10494121,  0.16939682,\n",
              "         0.16760136,  0.10571972,  0.12696834,  0.09458858,  0.07711073,\n",
              "         0.02898367,  0.03413548, -0.0196984 , -0.00528679,  0.04114641,\n",
              "         0.02258434,  0.18840982,  0.19704555,  0.16665082,  0.11582096,\n",
              "         0.04844502]),\n",
              " <matplotlib.collections.LineCollection at 0x7f50335f0110>,\n",
              " <matplotlib.lines.Line2D at 0x7f5033670810>)"
            ]
          },
          "metadata": {},
          "execution_count": 11
        },
        {
          "output_type": "display_data",
          "data": {
            "image/png": "[encoded data removed]",
            "text/plain": [
              "<Figure size 432x288 with 1 Axes>"
            ]
          },
          "metadata": {
            "needs_background": "light"
          }
        }
      ]
    },
    {
      "cell_type": "code",
      "source": [
        ""
      ],
      "metadata": {
        "id": "ODwzUKm3QYAS"
      },
      "execution_count": null,
      "outputs": []
    }
  ]
}