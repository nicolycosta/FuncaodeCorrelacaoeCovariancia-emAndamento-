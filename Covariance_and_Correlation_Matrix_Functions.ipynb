{
  "nbformat": 4,
  "nbformat_minor": 0,
  "metadata": {
    "colab": {
      "name": "Covariance and Correlation Matrix Functions.ipynb",
      "provenance": [],
      "collapsed_sections": [],
      "authorship_tag": "ABX9TyMQX9nCBnZZXW+pKC5yYx+e",
      "include_colab_link": true
    },
    "kernelspec": {
      "name": "python3",
      "display_name": "Python 3"
    },
    "language_info": {
      "name": "python"
    }
  },
  "cells": [
    {
      "cell_type": "markdown",
      "metadata": {
        "id": "view-in-github",
        "colab_type": "text"
      },
      "source": [
        "<a href=\"https://colab.research.google.com/github/nicolycosta/Analise-de-Correlacao-e-Covariancia/blob/main/Covariance_and_Correlation_Matrix_Functions.ipynb\" target=\"_parent\"><img src=\"https://colab.research.google.com/assets/colab-badge.svg\" alt=\"Open In Colab\"/></a>"
      ]
    },
    {
      "cell_type": "code",
      "execution_count": 11,
      "metadata": {
        "id": "OiJpo2APS2yZ"
      },
      "outputs": [],
      "source": [
        "import pandas as pd\n",
        "import numpy"
      ]
    },
    {
      "cell_type": "code",
      "source": [
        "df = pd.read_excel(\"Base.xlsx\")\n",
        "df = df.set_index('Mês')\n",
        "df.head(5)"
      ],
      "metadata": {
        "colab": {
          "base_uri": "https://localhost:8080/",
          "height": 237
        },
        "id": "97o2CVFrS3ZC",
        "outputId": "11161f91-8ab9-4493-9a56-ee8f9727ed7d"
      },
      "execution_count": 12,
      "outputs": [
        {
          "output_type": "execute_result",
          "data": {
            "text/html": [
              "\n",
              "  <div id=\"df-d0a1b805-7dc5-438c-bd37-e435a32ba2b7\">\n",
              "    <div class=\"colab-df-container\">\n",
              "      <div>\n",
              "<style scoped>\n",
              "    .dataframe tbody tr th:only-of-type {\n",
              "        vertical-align: middle;\n",
              "    }\n",
              "\n",
              "    .dataframe tbody tr th {\n",
              "        vertical-align: top;\n",
              "    }\n",
              "\n",
              "    .dataframe thead th {\n",
              "        text-align: right;\n",
              "    }\n",
              "</style>\n",
              "<table border=\"1\" class=\"dataframe\">\n",
              "  <thead>\n",
              "    <tr style=\"text-align: right;\">\n",
              "      <th></th>\n",
              "      <th>ICMS- Pará</th>\n",
              "      <th>IPCA - Núm índice</th>\n",
              "    </tr>\n",
              "    <tr>\n",
              "      <th>Mês</th>\n",
              "      <th></th>\n",
              "      <th></th>\n",
              "    </tr>\n",
              "  </thead>\n",
              "  <tbody>\n",
              "    <tr>\n",
              "      <th>2004-01-01</th>\n",
              "      <td>2.080399e+08</td>\n",
              "      <td>2246.43</td>\n",
              "    </tr>\n",
              "    <tr>\n",
              "      <th>2004-02-01</th>\n",
              "      <td>1.887688e+08</td>\n",
              "      <td>2260.13</td>\n",
              "    </tr>\n",
              "    <tr>\n",
              "      <th>2004-03-01</th>\n",
              "      <td>1.593895e+08</td>\n",
              "      <td>2270.75</td>\n",
              "    </tr>\n",
              "    <tr>\n",
              "      <th>2004-04-01</th>\n",
              "      <td>1.749718e+08</td>\n",
              "      <td>2279.15</td>\n",
              "    </tr>\n",
              "    <tr>\n",
              "      <th>2004-05-01</th>\n",
              "      <td>1.973934e+08</td>\n",
              "      <td>2290.77</td>\n",
              "    </tr>\n",
              "  </tbody>\n",
              "</table>\n",
              "</div>\n",
              "      <button class=\"colab-df-convert\" onclick=\"convertToInteractive('df-d0a1b805-7dc5-438c-bd37-e435a32ba2b7')\"\n",
              "              title=\"Convert this dataframe to an interactive table.\"\n",
              "              style=\"display:none;\">\n",
              "        \n",
              "  <svg xmlns=\"http://www.w3.org/2000/svg\" height=\"24px\"viewBox=\"0 0 24 24\"\n",
              "       width=\"24px\">\n",
              "    <path d=\"M0 0h24v24H0V0z\" fill=\"none\"/>\n",
              "    <path d=\"M18.56 5.44l.94 2.06.94-2.06 2.06-.94-2.06-.94-.94-2.06-.94 2.06-2.06.94zm-11 1L8.5 8.5l.94-2.06 2.06-.94-2.06-.94L8.5 2.5l-.94 2.06-2.06.94zm10 10l.94 2.06.94-2.06 2.06-.94-2.06-.94-.94-2.06-.94 2.06-2.06.94z\"/><path d=\"M17.41 7.96l-1.37-1.37c-.4-.4-.92-.59-1.43-.59-.52 0-1.04.2-1.43.59L10.3 9.45l-7.72 7.72c-.78.78-.78 2.05 0 2.83L4 21.41c.39.39.9.59 1.41.59.51 0 1.02-.2 1.41-.59l7.78-7.78 2.81-2.81c.8-.78.8-2.07 0-2.86zM5.41 20L4 18.59l7.72-7.72 1.47 1.35L5.41 20z\"/>\n",
              "  </svg>\n",
              "      </button>\n",
              "      \n",
              "  <style>\n",
              "    .colab-df-container {\n",
              "      display:flex;\n",
              "      flex-wrap:wrap;\n",
              "      gap: 12px;\n",
              "    }\n",
              "\n",
              "    .colab-df-convert {\n",
              "      background-color: #E8F0FE;\n",
              "      border: none;\n",
              "      border-radius: 50%;\n",
              "      cursor: pointer;\n",
              "      display: none;\n",
              "      fill: #1967D2;\n",
              "      height: 32px;\n",
              "      padding: 0 0 0 0;\n",
              "      width: 32px;\n",
              "    }\n",
              "\n",
              "    .colab-df-convert:hover {\n",
              "      background-color: #E2EBFA;\n",
              "      box-shadow: 0px 1px 2px rgba(60, 64, 67, 0.3), 0px 1px 3px 1px rgba(60, 64, 67, 0.15);\n",
              "      fill: #174EA6;\n",
              "    }\n",
              "\n",
              "    [theme=dark] .colab-df-convert {\n",
              "      background-color: #3B4455;\n",
              "      fill: #D2E3FC;\n",
              "    }\n",
              "\n",
              "    [theme=dark] .colab-df-convert:hover {\n",
              "      background-color: #434B5C;\n",
              "      box-shadow: 0px 1px 3px 1px rgba(0, 0, 0, 0.15);\n",
              "      filter: drop-shadow(0px 1px 2px rgba(0, 0, 0, 0.3));\n",
              "      fill: #FFFFFF;\n",
              "    }\n",
              "  </style>\n",
              "\n",
              "      <script>\n",
              "        const buttonEl =\n",
              "          document.querySelector('#df-d0a1b805-7dc5-438c-bd37-e435a32ba2b7 button.colab-df-convert');\n",
              "        buttonEl.style.display =\n",
              "          google.colab.kernel.accessAllowed ? 'block' : 'none';\n",
              "\n",
              "        async function convertToInteractive(key) {\n",
              "          const element = document.querySelector('#df-d0a1b805-7dc5-438c-bd37-e435a32ba2b7');\n",
              "          const dataTable =\n",
              "            await google.colab.kernel.invokeFunction('convertToInteractive',\n",
              "                                                     [key], {});\n",
              "          if (!dataTable) return;\n",
              "\n",
              "          const docLinkHtml = 'Like what you see? Visit the ' +\n",
              "            '<a target=\"_blank\" href=https://colab.research.google.com/notebooks/data_table.ipynb>data table notebook</a>'\n",
              "            + ' to learn more about interactive tables.';\n",
              "          element.innerHTML = '';\n",
              "          dataTable['output_type'] = 'display_data';\n",
              "          await google.colab.output.renderOutput(dataTable, element);\n",
              "          const docLink = document.createElement('div');\n",
              "          docLink.innerHTML = docLinkHtml;\n",
              "          element.appendChild(docLink);\n",
              "        }\n",
              "      </script>\n",
              "    </div>\n",
              "  </div>\n",
              "  "
            ],
            "text/plain": [
              "              ICMS- Pará  IPCA - Núm índice \n",
              "Mês                                         \n",
              "2004-01-01  2.080399e+08             2246.43\n",
              "2004-02-01  1.887688e+08             2260.13\n",
              "2004-03-01  1.593895e+08             2270.75\n",
              "2004-04-01  1.749718e+08             2279.15\n",
              "2004-05-01  1.973934e+08             2290.77"
            ]
          },
          "metadata": {},
          "execution_count": 12
        }
      ]
    },
    {
      "cell_type": "code",
      "source": [
        "#Tornando a série em estacionária\n",
        "df = df.diff().dropna()\n",
        "df.head(5)"
      ],
      "metadata": {
        "colab": {
          "base_uri": "https://localhost:8080/",
          "height": 237
        },
        "id": "eb_VZkh2S3b4",
        "outputId": "40f64bd5-24e7-4c38-fb20-3c3e924ad9e0"
      },
      "execution_count": 13,
      "outputs": [
        {
          "output_type": "execute_result",
          "data": {
            "text/html": [
              "\n",
              "  <div id=\"df-ae5ae76a-d156-4ee6-aede-8125b6e48372\">\n",
              "    <div class=\"colab-df-container\">\n",
              "      <div>\n",
              "<style scoped>\n",
              "    .dataframe tbody tr th:only-of-type {\n",
              "        vertical-align: middle;\n",
              "    }\n",
              "\n",
              "    .dataframe tbody tr th {\n",
              "        vertical-align: top;\n",
              "    }\n",
              "\n",
              "    .dataframe thead th {\n",
              "        text-align: right;\n",
              "    }\n",
              "</style>\n",
              "<table border=\"1\" class=\"dataframe\">\n",
              "  <thead>\n",
              "    <tr style=\"text-align: right;\">\n",
              "      <th></th>\n",
              "      <th>ICMS- Pará</th>\n",
              "      <th>IPCA - Núm índice</th>\n",
              "    </tr>\n",
              "    <tr>\n",
              "      <th>Mês</th>\n",
              "      <th></th>\n",
              "      <th></th>\n",
              "    </tr>\n",
              "  </thead>\n",
              "  <tbody>\n",
              "    <tr>\n",
              "      <th>2004-02-01</th>\n",
              "      <td>-19271095.42</td>\n",
              "      <td>13.70</td>\n",
              "    </tr>\n",
              "    <tr>\n",
              "      <th>2004-03-01</th>\n",
              "      <td>-29379308.75</td>\n",
              "      <td>10.62</td>\n",
              "    </tr>\n",
              "    <tr>\n",
              "      <th>2004-04-01</th>\n",
              "      <td>15582287.73</td>\n",
              "      <td>8.40</td>\n",
              "    </tr>\n",
              "    <tr>\n",
              "      <th>2004-05-01</th>\n",
              "      <td>22421587.15</td>\n",
              "      <td>11.62</td>\n",
              "    </tr>\n",
              "    <tr>\n",
              "      <th>2004-06-01</th>\n",
              "      <td>-5414707.06</td>\n",
              "      <td>16.26</td>\n",
              "    </tr>\n",
              "  </tbody>\n",
              "</table>\n",
              "</div>\n",
              "      <button class=\"colab-df-convert\" onclick=\"convertToInteractive('df-ae5ae76a-d156-4ee6-aede-8125b6e48372')\"\n",
              "              title=\"Convert this dataframe to an interactive table.\"\n",
              "              style=\"display:none;\">\n",
              "        \n",
              "  <svg xmlns=\"http://www.w3.org/2000/svg\" height=\"24px\"viewBox=\"0 0 24 24\"\n",
              "       width=\"24px\">\n",
              "    <path d=\"M0 0h24v24H0V0z\" fill=\"none\"/>\n",
              "    <path d=\"M18.56 5.44l.94 2.06.94-2.06 2.06-.94-2.06-.94-.94-2.06-.94 2.06-2.06.94zm-11 1L8.5 8.5l.94-2.06 2.06-.94-2.06-.94L8.5 2.5l-.94 2.06-2.06.94zm10 10l.94 2.06.94-2.06 2.06-.94-2.06-.94-.94-2.06-.94 2.06-2.06.94z\"/><path d=\"M17.41 7.96l-1.37-1.37c-.4-.4-.92-.59-1.43-.59-.52 0-1.04.2-1.43.59L10.3 9.45l-7.72 7.72c-.78.78-.78 2.05 0 2.83L4 21.41c.39.39.9.59 1.41.59.51 0 1.02-.2 1.41-.59l7.78-7.78 2.81-2.81c.8-.78.8-2.07 0-2.86zM5.41 20L4 18.59l7.72-7.72 1.47 1.35L5.41 20z\"/>\n",
              "  </svg>\n",
              "      </button>\n",
              "      \n",
              "  <style>\n",
              "    .colab-df-container {\n",
              "      display:flex;\n",
              "      flex-wrap:wrap;\n",
              "      gap: 12px;\n",
              "    }\n",
              "\n",
              "    .colab-df-convert {\n",
              "      background-color: #E8F0FE;\n",
              "      border: none;\n",
              "      border-radius: 50%;\n",
              "      cursor: pointer;\n",
              "      display: none;\n",
              "      fill: #1967D2;\n",
              "      height: 32px;\n",
              "      padding: 0 0 0 0;\n",
              "      width: 32px;\n",
              "    }\n",
              "\n",
              "    .colab-df-convert:hover {\n",
              "      background-color: #E2EBFA;\n",
              "      box-shadow: 0px 1px 2px rgba(60, 64, 67, 0.3), 0px 1px 3px 1px rgba(60, 64, 67, 0.15);\n",
              "      fill: #174EA6;\n",
              "    }\n",
              "\n",
              "    [theme=dark] .colab-df-convert {\n",
              "      background-color: #3B4455;\n",
              "      fill: #D2E3FC;\n",
              "    }\n",
              "\n",
              "    [theme=dark] .colab-df-convert:hover {\n",
              "      background-color: #434B5C;\n",
              "      box-shadow: 0px 1px 3px 1px rgba(0, 0, 0, 0.15);\n",
              "      filter: drop-shadow(0px 1px 2px rgba(0, 0, 0, 0.3));\n",
              "      fill: #FFFFFF;\n",
              "    }\n",
              "  </style>\n",
              "\n",
              "      <script>\n",
              "        const buttonEl =\n",
              "          document.querySelector('#df-ae5ae76a-d156-4ee6-aede-8125b6e48372 button.colab-df-convert');\n",
              "        buttonEl.style.display =\n",
              "          google.colab.kernel.accessAllowed ? 'block' : 'none';\n",
              "\n",
              "        async function convertToInteractive(key) {\n",
              "          const element = document.querySelector('#df-ae5ae76a-d156-4ee6-aede-8125b6e48372');\n",
              "          const dataTable =\n",
              "            await google.colab.kernel.invokeFunction('convertToInteractive',\n",
              "                                                     [key], {});\n",
              "          if (!dataTable) return;\n",
              "\n",
              "          const docLinkHtml = 'Like what you see? Visit the ' +\n",
              "            '<a target=\"_blank\" href=https://colab.research.google.com/notebooks/data_table.ipynb>data table notebook</a>'\n",
              "            + ' to learn more about interactive tables.';\n",
              "          element.innerHTML = '';\n",
              "          dataTable['output_type'] = 'display_data';\n",
              "          await google.colab.output.renderOutput(dataTable, element);\n",
              "          const docLink = document.createElement('div');\n",
              "          docLink.innerHTML = docLinkHtml;\n",
              "          element.appendChild(docLink);\n",
              "        }\n",
              "      </script>\n",
              "    </div>\n",
              "  </div>\n",
              "  "
            ],
            "text/plain": [
              "             ICMS- Pará  IPCA - Núm índice \n",
              "Mês                                        \n",
              "2004-02-01 -19271095.42               13.70\n",
              "2004-03-01 -29379308.75               10.62\n",
              "2004-04-01  15582287.73                8.40\n",
              "2004-05-01  22421587.15               11.62\n",
              "2004-06-01  -5414707.06               16.26"
            ]
          },
          "metadata": {},
          "execution_count": 13
        }
      ]
    },
    {
      "cell_type": "markdown",
      "source": [
        "# Covariância(X,Y) e Autocovariância"
      ],
      "metadata": {
        "id": "69xOY1ynT1mB"
      }
    },
    {
      "cell_type": "code",
      "source": [
        "def Covariancia(x,y):\n",
        "    \n",
        "    from statistics import mean\n",
        "    import pandas as pd\n",
        "    import numpy as np\n",
        "    import warnings    \n",
        "    warnings.filterwarnings('ignore')\n",
        "    \n",
        "    #adjusting a base\n",
        "    data = np.array([x.values, y.values])\n",
        "    Cal= pd.DataFrame(data)\n",
        "    Cal = Cal.T \n",
        "    Cal.columns=['X', 'Y']\n",
        "    Cal['Covx']= 'NaN'\n",
        "    Cal['Covy']= 'NaN'\n",
        "\n",
        "    #mean x and y \n",
        "    meanx= mean(Cal['X'])\n",
        "    meany= mean(Cal['Y'])\n",
        "\n",
        "    position = 0\n",
        "    for value in Cal['Covx']:\n",
        "        Cal['Covx'][position] = (Cal['X'][position] - meanx) # (x-μx)\n",
        "        position = position + 1\n",
        "    position = 0\n",
        "    for value in Cal['Covy']:\n",
        "        Cal['Covy'][position] = Cal['Y'][position] - meany # (y-μy)\n",
        "        position = position + 1\n",
        "\n",
        "    \n",
        "    Cal['Covx*Covy'] = Cal['Covx']*Cal['Covy'] #(x-μx)(y-μy)\n",
        "    covxy = mean(Cal['Covx*Covy']) # E(x-μx)(y-μy)\n",
        "    covx = mean(Cal['Covx']*Cal['Covx']) # E(x-μx)(x-μx)\n",
        "    covy = mean(Cal['Covy']*Cal['Covy']) # E(y-μy)(y-μy)\n",
        "\n",
        "    print()\n",
        "    print('Covariância cruzada: ')\n",
        "    print(f'                  {covxy}')\n",
        "    print()\n",
        "    print('Auto-Covariância do X: ')\n",
        "    print(f'                  {covx}')\n",
        "    print()\n",
        "    print('Auto-Covariância do Y: ')\n",
        "    print(f'                  {covy}')"
      ],
      "metadata": {
        "id": "M7w_5cgjS3eQ"
      },
      "execution_count": 14,
      "outputs": []
    },
    {
      "cell_type": "code",
      "source": [
        "Covariancia(df['ICMS- Pará'],df['IPCA - Núm índice '])"
      ],
      "metadata": {
        "colab": {
          "base_uri": "https://localhost:8080/"
        },
        "id": "yvsXo94VS3g5",
        "outputId": "5135f30e-9e0c-424a-9cc6-64395327c756"
      },
      "execution_count": 15,
      "outputs": [
        {
          "output_type": "stream",
          "name": "stdout",
          "text": [
            "\n",
            "Covariância cruzada: \n",
            "                  -60215244.21757942\n",
            "\n",
            "Auto-Covariância do X: \n",
            "                  4210569642576162.0\n",
            "\n",
            "Auto-Covariância do Y: \n",
            "                  182.93852883862505\n"
          ]
        }
      ]
    },
    {
      "cell_type": "markdown",
      "source": [
        "#### Matriz de Covariância (função pronta)"
      ],
      "metadata": {
        "id": "MHO0u-arbwPO"
      }
    },
    {
      "cell_type": "code",
      "source": [
        "numpy.cov(df['ICMS- Pará'], df['IPCA - Núm índice '])"
      ],
      "metadata": {
        "colab": {
          "base_uri": "https://localhost:8080/"
        },
        "id": "7y9XMMbXS3oA",
        "outputId": "73393115-7710-406f-9aac-5b3feebb24a1"
      },
      "execution_count": 16,
      "outputs": [
        {
          "output_type": "execute_result",
          "data": {
            "text/plain": [
              "array([[ 4.23081277e+15, -6.05047406e+07],\n",
              "       [-6.05047406e+07,  1.83818041e+02]])"
            ]
          },
          "metadata": {},
          "execution_count": 16
        }
      ]
    },
    {
      "cell_type": "markdown",
      "source": [
        "# Correlação(X,Y)\n",
        "\n"
      ],
      "metadata": {
        "id": "FqUoO7MNNRL7"
      }
    },
    {
      "cell_type": "code",
      "source": [
        "def Correlacaocruzada (x,y,lags = 30):\n",
        "\n",
        "    import matplotlib.pyplot as plt\n",
        "    from statistics import mean\n",
        "    import numpy as np\n",
        "    \n",
        "    listcorrelacao = []\n",
        "    k = list(range(2,lags))\n",
        "    \n",
        "    for lag in k:\n",
        "        data = np.array([x.values, y.values])\n",
        "        Cal= pd.DataFrame(data)\n",
        "        Cal = Cal.T \n",
        "        Cal.columns=['X', 'Y']\n",
        "        Cal\n",
        "\n",
        "        Cal= df\n",
        "        Cal['Corx']= 'NaN'\n",
        "        Cal['Cory']= 'NaN'\n",
        "        Cal['Corylag0']= 'NaN'\n",
        "        meanx= mean(x)\n",
        "        meany= mean(y)\n",
        "\n",
        "        #X\n",
        "        i= 0\n",
        "        for j in Cal['Corx']: #iterrow\n",
        "            Cal['Corx'][i] = (x[i] - meanx) # (x-μx)\n",
        "            i = i + 1\n",
        "\n",
        "\n",
        "        #Y\n",
        "        i= 0\n",
        "        #k = 2 #lag\n",
        "        lenn = round((len(y)+1)/lag) #for odd number\n",
        "        while i <= lenn:\n",
        "            Cal['Cory'][i] = y[i+lag] - meany # (y-μy)\n",
        "            i = i + 1\n",
        "    \n",
        "        #Covariância cruzada (Yxy)   \n",
        "        Cal['Corx*Cory'] = Cal['Corx'][0:lenn]*Cal['Cory'][0:lenn] #(x-μx)(y-μy)\n",
        "        corxy = mean(Cal['Corx*Cory'].dropna()) # E(x-μx)(y-μy)\n",
        "    \n",
        "        #Auto Covariância (Yxx)\n",
        "        corx = mean(Cal['Corx']*Cal['Corx']) # E(x-μx)(x-μx)\n",
        "    \n",
        "        #Auto Covariância (Yyy)\n",
        "        i= 0\n",
        "        for j in Cal['Corylag0']:\n",
        "            Cal['Corylag0'][i] = y[i] - meany # (y-μy)\n",
        "            i = i + 1\n",
        "        cory = mean(Cal['Corylag0']*Cal['Corylag0']) # E(y-μy)(y-μy)\n",
        "\n",
        "        listcorrelacao.append(corxy/((corx*cory)**(1/2)))\n",
        "        \n",
        "    plt.figure(figsize = (16, 9))\n",
        "    ax= plt.subplot(1,1,1)\n",
        "    ax.stem(listcorrelacao)\n",
        "    plt.title('Correlação Cruzada', fontsize=16)"
      ],
      "metadata": {
        "id": "328XEu70S3ql"
      },
      "execution_count": 19,
      "outputs": []
    },
    {
      "cell_type": "code",
      "source": [
        "Correlacaocruzada(df['ICMS- Pará'],df['IPCA - Núm índice '], 30)"
      ],
      "metadata": {
        "id": "u1iDuPUmS3tR",
        "colab": {
          "base_uri": "https://localhost:8080/",
          "height": 554
        },
        "outputId": "47211905-8cfb-4bb2-e622-270532f439f0"
      },
      "execution_count": 20,
      "outputs": [
        {
          "output_type": "display_data",
          "data": {
            "image/png": "[encoded data removed]",
            "text/plain": [
              "<Figure size 1152x648 with 1 Axes>"
            ]
          },
          "metadata": {
            "needs_background": "light"
          }
        }
      ]
    },
    {
      "cell_type": "code",
      "source": [
        ""
      ],
      "metadata": {
        "id": "ZNxigQyMS3vs"
      },
      "execution_count": null,
      "outputs": []
    },
    {
      "cell_type": "code",
      "source": [
        ""
      ],
      "metadata": {
        "id": "msj9CTVFS3yS"
      },
      "execution_count": null,
      "outputs": []
    }
  ]
}